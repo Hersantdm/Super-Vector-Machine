{
 "cells": [
  {
   "cell_type": "code",
   "execution_count": 1,
   "metadata": {},
   "outputs": [],
   "source": [
    "\n",
    "# import required libraries\n",
    "\n",
    "import pandas as pd\n",
    "from sklearn.model_selection import train_test_split\n",
    "from sklearn.svm import SVC\n",
    "from sklearn.metrics import confusion_matrix\n",
    "from sklearn.preprocessing import LabelEncoder"
   ]
  },
  {
   "cell_type": "code",
   "execution_count": 4,
   "metadata": {},
   "outputs": [],
   "source": [
    "# read data from csv file\n",
    "data = pd.read_csv('apples_and_oranges.csv')"
   ]
  },
  {
   "cell_type": "code",
   "execution_count": 6,
   "metadata": {},
   "outputs": [],
   "source": [
    "# splitting data into training and test set\n",
    "training_set,test_set = train_test_split(data,test_size=0.2,random_state=1)\n",
    "#print(\"train:\",training_set)\n",
    "#print(\"test:\",test_set)"
   ]
  },
  {
   "cell_type": "code",
   "execution_count": 15,
   "metadata": {},
   "outputs": [],
   "source": [
    "\n",
    "# prepare data for applying it to svm\n",
    "x_train = training_set.iloc[:,0:2].values  # data\n",
    "y_train = training_set.iloc[:,2].values  # target\n",
    "x_test = test_set.iloc[:,0:2].values  # data\n",
    "y_test = test_set.iloc[:,2].values  # target\n",
    "#print(x_train,y_train)\n",
    "#print(x_test,y_test)"
   ]
  },
  {
   "cell_type": "code",
   "execution_count": null,
   "metadata": {},
   "outputs": [],
   "source": [
    "# fitting the data (train a model)\n",
    "classifier = SVC(kernel='rbf',random_state=1,C=1,gamma='auto')\n",
    "classifier.fit(x_train,y_train)\n",
    "\n",
    "# perform prediction on x_test data\n",
    "y_pred = classifier.predict(x_test)\n",
    "#test_set['prediction']=y_pred\n",
    "#print(y_pred)\n",
    "\n",
    "# creating confusion matrix and accuracy calculation\n",
    "print('model accuracy is:',accuracy*100,'%')\n",
    "\n",
    "x1_test = [[73,6]] # for new data testing\n",
    "classifier.predict(x1_test)"
   ]
  }
 ],
 "metadata": {
  "interpreter": {
   "hash": "67925a65861761fab367c5fa2c276de96ef7ff6b61f7add8518cb94e0fea7b0f"
  },
  "kernelspec": {
   "display_name": "Python 3 (ipykernel)",
   "language": "python",
   "name": "python3"
  },
  "language_info": {
   "codemirror_mode": {
    "name": "ipython",
    "version": 3
   },
   "file_extension": ".py",
   "mimetype": "text/x-python",
   "name": "python",
   "nbconvert_exporter": "python",
   "pygments_lexer": "ipython3",
   "version": "3.9.7"
  }
 },
 "nbformat": 4,
 "nbformat_minor": 2
}
